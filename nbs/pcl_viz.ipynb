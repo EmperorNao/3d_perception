{
 "cells": [
  {
   "cell_type": "code",
   "execution_count": 9,
   "metadata": {},
   "outputs": [],
   "source": [
    "%gui qt\n",
    "sys.path.append(\"/home/emperornao/p/perception\")"
   ]
  },
  {
   "cell_type": "code",
   "execution_count": 16,
   "metadata": {},
   "outputs": [],
   "source": [
    "from dataset.cadc import CadcDataset"
   ]
  },
  {
   "cell_type": "code",
   "execution_count": 23,
   "metadata": {},
   "outputs": [],
   "source": [
    "scene_id = CadcDataset.get_scenes_info_list(\"/home/emperornao/p/perception/data/cadc\")[0]"
   ]
  },
  {
   "cell_type": "code",
   "execution_count": 25,
   "metadata": {},
   "outputs": [],
   "source": [
    "find_scene = lambda x: x == scene_id"
   ]
  },
  {
   "cell_type": "code",
   "execution_count": 30,
   "metadata": {},
   "outputs": [],
   "source": [
    "scene = CadcDataset.create_from_path(\"/home/emperornao/p/perception/data/cadc\", find_scene)[0]"
   ]
  },
  {
   "cell_type": "code",
   "execution_count": 31,
   "metadata": {},
   "outputs": [
    {
     "data": {
      "text/plain": [
       "{'scene_id': dataset.structures.SceneID,\n",
       " 'cameras': typing.List[dataset.structures.Camera],\n",
       " 'lidar_cloud': dataset.structures.LidarCloud,\n",
       " 'gt3d': dataset.structures.GT3D}"
      ]
     },
     "execution_count": 31,
     "metadata": {},
     "output_type": "execute_result"
    }
   ],
   "source": [
    "type(scene).__annotations__"
   ]
  },
  {
   "cell_type": "code",
   "execution_count": 32,
   "metadata": {},
   "outputs": [],
   "source": [
    "import numpy as np\n",
    "import vispy.scene\n",
    "from vispy.scene import visuals\n",
    "\n",
    "#\n",
    "# Make a canvas and add simple view\n",
    "#\n",
    "canvas = vispy.scene.SceneCanvas(keys='interactive', show=True)\n",
    "view = canvas.central_widget.add_view()\n",
    "\n",
    "\n",
    "\n",
    "# create scatter object and fill in the data\n",
    "scatter = visuals.Markers()\n",
    "scatter.set_data(scene.lidar_cloud.xyz, edge_width=0, face_color=(1, 1, 1, .5), size=3)\n",
    "\n",
    "view.add(scatter)\n",
    "\n",
    "view.camera = 'turntable'  # or try 'arcball'\n",
    "\n",
    "# add a colored 3D axis for orientation\n",
    "axis = visuals.XYZAxis(parent=view.scene)\n",
    "\n",
    "if __name__ == '__main__':\n",
    "    import sys\n",
    "    if sys.flags.interactive != 1:\n",
    "        vispy.app.run()"
   ]
  }
 ],
 "metadata": {
  "kernelspec": {
   "display_name": "Python 3 (ipykernel)",
   "language": "python",
   "name": "python3"
  },
  "language_info": {
   "codemirror_mode": {
    "name": "ipython",
    "version": 3
   },
   "file_extension": ".py",
   "mimetype": "text/x-python",
   "name": "python",
   "nbconvert_exporter": "python",
   "pygments_lexer": "ipython3",
   "version": "3.10.12"
  }
 },
 "nbformat": 4,
 "nbformat_minor": 4
}
